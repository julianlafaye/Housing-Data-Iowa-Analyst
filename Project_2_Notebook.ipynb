{
 "cells": [
  {
   "source": [
    "from pathlib import Path"
   ],
   "cell_type": "code",
   "outputs": [],
   "metadata": {},
   "execution_count": 1
  },
  {
   "source": [
    "pynbs = ['01_EDA_and_Cleaning.ipynb',\n",
    "'02_Preprocessing_and_Feature_Engineering.ipynb',  \n",
    "'03_Model_Benchmarks.ipynb',\n",
    "'04_Model_Tuning.ipynb',\n",
    "'05_Production_Model_and_Insights.ipynb',\n",
    "'06_Kaggle_Submissions.ipynb']\n",
    "\n",
    "pys = ['01_EDA_and_Cleaning.py',\n",
    "'02_Preprocessing_and_Feature_Engineering.py',  \n",
    "'03_Model_Benchmarks.py',\n",
    "'04_Model_Tuning.py',\n",
    "'05_Production_Model_and_Insights.py',\n",
    "'06_Kaggle_Submissions.py']\n",
    "\n",
    "data_list = ['train_edited.csv',\n",
    "'test_edited.csv',\n",
    "'submission_lasso.csv',\n",
    "'submission_ridge.csv']\n",
    "\n",
    "%store data_list"
   ],
   "cell_type": "code",
   "outputs": [
    {
     "output_type": "stream",
     "name": "stdout",
     "text": "Stored 'data_list' (list)\n"
    }
   ],
   "metadata": {},
   "execution_count": 2
  },
  {
   "cell_type": "code",
   "execution_count": 90,
   "metadata": {},
   "outputs": [],
   "source": [
    "for i in data_list:\n",
    "    Path(f'./data/{i}').touch()"
   ]
  },
  {
   "cell_type": "code",
   "execution_count": 18,
   "metadata": {},
   "outputs": [
    {
     "name": "stdout",
     "output_type": "stream",
     "text": [
      "Stored 'MS_SubClass_dict' (dict)\n"
     ]
    }
   ],
   "source": [
    "var_list = [\"020 1-STORY 1946 & NEWER ALL STYLES\",\n",
    "   \"030 1-STORY 1945 & OLDER\",\n",
    "   \"040 1-STORY W/FINISHED ATTIC ALL AGES\",\n",
    "   \"045 1-1/2 STORY - UNFINISHED ALL AGES\",\n",
    "   \"050 1-1/2 STORY FINISHED ALL AGES\",\n",
    "   \"060 2-STORY 1946 & NEWER\",\n",
    "   \"070 2-STORY 1945 & OLDER\",\n",
    "   \"075 2-1/2 STORY ALL AGES\",\n",
    "   \"080 SPLIT OR MULTI-LEVEL\",\n",
    "   \"085 SPLIT FOYER\",\n",
    "   \"090 DUPLEX - ALL STYLES AND AGES\",\n",
    "   \"120 1-STORY PUD (Planned Unit Development) - 1946 & NEWER\",\n",
    "   \"150 1-1/2 STORY PUD - ALL AGES\",\n",
    "   \"160 2-STORY PUD - 1946 & NEWER\",\n",
    "   \"180 PUD - MULTILEVEL - INCL SPLIT LEV/FOYER\",\n",
    "   \"190 2 FAMILY CONVERSION - ALL STYLES AND AGES\"]\n",
    "desc = [\" \".join(s.split(\" \")[1:]) for s in var_list]\n",
    "var = [s.split(\" \")[0] for s in var_list]\n",
    "MS_SubClass_dict = dict(zip(var,desc))\n",
    "\n",
    "%store MS_SubClass_dict"
   ]
  },
  {
   "cell_type": "code",
   "execution_count": 19,
   "metadata": {},
   "outputs": [
    {
     "data": {
      "text/plain": [
       "{'020': '1-STORY 1946 & NEWER ALL STYLES',\n",
       " '030': '1-STORY 1945 & OLDER',\n",
       " '040': '1-STORY W/FINISHED ATTIC ALL AGES',\n",
       " '045': '1-1/2 STORY - UNFINISHED ALL AGES',\n",
       " '050': '1-1/2 STORY FINISHED ALL AGES',\n",
       " '060': '2-STORY 1946 & NEWER',\n",
       " '070': '2-STORY 1945 & OLDER',\n",
       " '075': '2-1/2 STORY ALL AGES',\n",
       " '080': 'SPLIT OR MULTI-LEVEL',\n",
       " '085': 'SPLIT FOYER',\n",
       " '090': 'DUPLEX - ALL STYLES AND AGES',\n",
       " '120': '1-STORY PUD (Planned Unit Development) - 1946 & NEWER',\n",
       " '150': '1-1/2 STORY PUD - ALL AGES',\n",
       " '160': '2-STORY PUD - 1946 & NEWER',\n",
       " '180': 'PUD - MULTILEVEL - INCL SPLIT LEV/FOYER',\n",
       " '190': '2 FAMILY CONVERSION - ALL STYLES AND AGES'}"
      ]
     },
     "execution_count": 19,
     "metadata": {},
     "output_type": "execute_result"
    }
   ],
   "source": [
    "MS_SubClass_dict"
   ]
  },
  {
   "cell_type": "code",
   "execution_count": null,
   "metadata": {},
   "outputs": [],
   "source": [
    "for pynb,py in zip(pynbs, pys):\n",
    "    ipynb.convert(f'code/{py}', f'code/{pynb}')"
   ]
  },
  {
   "cell_type": "code",
   "execution_count": null,
   "metadata": {},
   "outputs": [],
   "source": [
    "for pynb,py in zip(pynbs, pys):\n",
    "        ipynb.convert(f'code/{pynb}', f'code/{py}')"
   ]
  },
  {
   "source": [
    "import ipynb_py_convert as ipynb"
   ],
   "cell_type": "code",
   "outputs": [],
   "metadata": {},
   "execution_count": 5
  },
  {
   "source": [
    "def pynb_to_py(i):\n",
    "    ipynb.convert(f'code/{pynbs[i-1]}', f'code/{pys[i-1]}')\n",
    "def py_to_pynb(i):\n",
    "    ipynb.convert(f'code/{pys[i-1]}', f'code/{pynbs[i-1]}')"
   ],
   "cell_type": "code",
   "outputs": [],
   "metadata": {},
   "execution_count": 3
  },
  {
   "source": [
    "pynb_to_py(3)"
   ],
   "cell_type": "code",
   "outputs": [],
   "metadata": {},
   "execution_count": 6
  },
  {
   "source": [
    "py_to_pynb(1)"
   ],
   "cell_type": "code",
   "outputs": [],
   "metadata": {},
   "execution_count": 18
  },
  {
   "cell_type": "code",
   "execution_count": null,
   "metadata": {},
   "outputs": [],
   "source": []
  }
 ],
 "metadata": {
  "kernelspec": {
   "display_name": "Python 3.7.5 64-bit ('base': conda)",
   "language": "python",
   "name": "python37564bitbaseconda97be179c9b764123b7498c82d978498f"
  },
  "language_info": {
   "codemirror_mode": {
    "name": "ipython",
    "version": 3
   },
   "file_extension": ".py",
   "mimetype": "text/x-python",
   "name": "python",
   "nbconvert_exporter": "python",
   "pygments_lexer": "ipython3",
   "version": "3.7.5-final"
  }
 },
 "nbformat": 4,
 "nbformat_minor": 4
}